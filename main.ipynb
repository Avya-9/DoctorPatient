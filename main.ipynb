{
 "cells": [
  {
   "cell_type": "code",
   "execution_count": 1,
   "metadata": {},
   "outputs": [
    {
     "data": {
      "text/html": [
       "<div>\n",
       "<style scoped>\n",
       "    .dataframe tbody tr th:only-of-type {\n",
       "        vertical-align: middle;\n",
       "    }\n",
       "\n",
       "    .dataframe tbody tr th {\n",
       "        vertical-align: top;\n",
       "    }\n",
       "\n",
       "    .dataframe thead th {\n",
       "        text-align: right;\n",
       "    }\n",
       "</style>\n",
       "<table border=\"1\" class=\"dataframe\">\n",
       "  <thead>\n",
       "    <tr style=\"text-align: right;\">\n",
       "      <th></th>\n",
       "      <th>type</th>\n",
       "      <th>doctor</th>\n",
       "      <th>patient</th>\n",
       "    </tr>\n",
       "  </thead>\n",
       "  <tbody>\n",
       "    <tr>\n",
       "      <th>0</th>\n",
       "      <td>respiratory</td>\n",
       "      <td>How may I help you?</td>\n",
       "      <td>Hi, umm, so I've had a sore throat for the pas...</td>\n",
       "    </tr>\n",
       "    <tr>\n",
       "      <th>1</th>\n",
       "      <td>respiratory</td>\n",
       "      <td>Yeah, for sure. So you said that the sore thro...</td>\n",
       "      <td>Neither, it's been the same.</td>\n",
       "    </tr>\n",
       "    <tr>\n",
       "      <th>2</th>\n",
       "      <td>respiratory</td>\n",
       "      <td>OK, is it painful to swallow food or liquids?</td>\n",
       "      <td>It's painful to swallow solids, yeah.</td>\n",
       "    </tr>\n",
       "    <tr>\n",
       "      <th>3</th>\n",
       "      <td>respiratory</td>\n",
       "      <td>OK, uh, and how is your, umm, have you had any...</td>\n",
       "      <td>No, not really. No.</td>\n",
       "    </tr>\n",
       "    <tr>\n",
       "      <th>4</th>\n",
       "      <td>respiratory</td>\n",
       "      <td>OK. And have you noticed any like neck swelling?</td>\n",
       "      <td>No.</td>\n",
       "    </tr>\n",
       "  </tbody>\n",
       "</table>\n",
       "</div>"
      ],
      "text/plain": [
       "          type                                             doctor  \\\n",
       "0  respiratory                                How may I help you?   \n",
       "1  respiratory  Yeah, for sure. So you said that the sore thro...   \n",
       "2  respiratory      OK, is it painful to swallow food or liquids?   \n",
       "3  respiratory  OK, uh, and how is your, umm, have you had any...   \n",
       "4  respiratory   OK. And have you noticed any like neck swelling?   \n",
       "\n",
       "                                             patient  \n",
       "0  Hi, umm, so I've had a sore throat for the pas...  \n",
       "1                       Neither, it's been the same.  \n",
       "2              It's painful to swallow solids, yeah.  \n",
       "3                                No, not really. No.  \n",
       "4                                                No.  "
      ]
     },
     "execution_count": 1,
     "metadata": {},
     "output_type": "execute_result"
    }
   ],
   "source": [
    "import os\n",
    "import pandas as pd\n",
    "\n",
    "folder_path = \"/Users/avyaahuja/doctor/dataset/\"\n",
    "\n",
    "category_mapping = {\n",
    "    \"RES\": \"respiratory\",\n",
    "    \"MSK\": \"musculoskeletal\",\n",
    "    \"CAR\": \"cardiac\",\n",
    "    \"DER\": \"dermatological\",\n",
    "    \"GAS\": \"gastrointestinal\"\n",
    "}\n",
    "\n",
    "def preprocess_all_conversations(folder_path):\n",
    "    data = []\n",
    "\n",
    "    for filename in os.listdir(folder_path):\n",
    "        if filename.endswith(\".txt\"):  \n",
    "            prefix = filename.split('.')[0][:3] \n",
    "            category = category_mapping.get(prefix, \"Unknown\") \n",
    "            \n",
    "            file_path = os.path.join(folder_path, filename)\n",
    "            with open(file_path, \"r\", encoding='ISO-8859-1') as file: \n",
    "                conversations = file.readlines()\n",
    "\n",
    "                doctor = \"\"\n",
    "                patient = \"\"\n",
    "                conversation_pairs = []\n",
    "\n",
    "                for line in conversations:\n",
    "                    line = line.strip()\n",
    "\n",
    "                    if line.startswith(\"D:\"):\n",
    "                        doctor = line.replace(\"D:\", \"\").strip()\n",
    "\n",
    "                    elif line.startswith(\"P:\"):\n",
    "                        patient = line.replace(\"P:\", \"\").strip()\n",
    "\n",
    "                        if doctor and patient:\n",
    "                            conversation_pairs.append({\n",
    "                                \"type\": category,\n",
    "                                \"doctor\": doctor,\n",
    "                                \"patient\": patient\n",
    "                            })\n",
    "                            doctor = \"\"  \n",
    "                            patient = \"\"  \n",
    "\n",
    "                data.extend(conversation_pairs)\n",
    "\n",
    "    return pd.DataFrame(data)\n",
    "\n",
    "df = preprocess_all_conversations(folder_path)\n",
    "\n",
    "df.to_csv(\"/Users/avyaahuja/doctor/data/processed.csv\", index=False)\n",
    "df.head()\n"
   ]
  },
  {
   "cell_type": "code",
   "execution_count": 2,
   "metadata": {},
   "outputs": [],
   "source": [
    "resp_df = df[df['type'] == 'respiratory']\n",
    "musc_df = df[df['type'] == 'musculoskeletal']\n",
    "cardiac_df = df[df['type'] == 'cardiac']\n",
    "derm_df = df[df['type'] == 'dermatological']\n",
    "gastro_df = df[df['type'] == 'gastrointestinal']"
   ]
  },
  {
   "cell_type": "code",
   "execution_count": 3,
   "metadata": {},
   "outputs": [
    {
     "name": "stdout",
     "output_type": "stream",
     "text": [
      "(10057, 3) (2478, 3) (228, 3) (40, 3) (237, 3)\n"
     ]
    }
   ],
   "source": [
    "print(resp_df.shape,musc_df.shape,cardiac_df.shape,derm_df.shape,gastro_df.shape)"
   ]
  },
  {
   "cell_type": "code",
   "execution_count": 4,
   "metadata": {},
   "outputs": [],
   "source": [
    "resp_df.to_csv(\"/Users/avyaahuja/doctor/data/resp.csv\", index=False)\n",
    "musc_df.to_csv(\"/Users/avyaahuja/doctor/data/musc.csv\", index=False)\n",
    "cardiac_df.to_csv(\"/Users/avyaahuja/doctor/data/cardiac.csv\", index=False)\n",
    "derm_df.to_csv(\"/Users/avyaahuja/doctor/data/derm.csv\", index=False)\n",
    "gastro_df.to_csv(\"/Users/avyaahuja/doctor/data/gastro.csv\", index=False)"
   ]
  },
  {
   "cell_type": "code",
   "execution_count": 5,
   "metadata": {},
   "outputs": [],
   "source": [
    "# from langchain_community.document_loaders import CSVLoader\n",
    "\n",
    "# loader = CSVLoader(file_path='processed.csv')\n",
    "# docs = loader.load()\n"
   ]
  },
  {
   "cell_type": "code",
   "execution_count": 6,
   "metadata": {},
   "outputs": [],
   "source": [
    "from langchain_community.document_loaders import CSVLoader\n",
    "\n",
    "loader = CSVLoader(file_path='/Users/avyaahuja/doctor/data/derm.csv')\n",
    "derm_docs = loader.load()"
   ]
  },
  {
   "cell_type": "code",
   "execution_count": 7,
   "metadata": {},
   "outputs": [
    {
     "data": {
      "text/plain": [
       "True"
      ]
     },
     "execution_count": 7,
     "metadata": {},
     "output_type": "execute_result"
    }
   ],
   "source": [
    "import os\n",
    "from dotenv import load_dotenv\n",
    "load_dotenv()"
   ]
  },
  {
   "cell_type": "code",
   "execution_count": 8,
   "metadata": {},
   "outputs": [
    {
     "data": {
      "text/plain": [
       "[Document(metadata={'source': '/Users/avyaahuja/doctor/data/derm.csv', 'row': 0}, page_content=\"type: dermatological\\ndoctor: Hi, so you I understand you have a rash on your leg.\\npatient: I don't really know what I would call it. That's what I told the nurse when I came in, but it more hurts than anything.\"),\n",
       " Document(metadata={'source': '/Users/avyaahuja/doctor/data/derm.csv', 'row': 1}, page_content=\"type: dermatological\\ndoctor: OK, uh, how long is this been going on for?\\npatient: Ah, it's been it's been looking weird for about a week, but only yes, it started hurting yesterday and started looking strange and I just wanted to come in to get it checked out.\"),\n",
       " Document(metadata={'source': '/Users/avyaahuja/doctor/data/derm.csv', 'row': 2}, page_content=\"type: dermatological\\ndoctor: OK when you say it's looking strange, can you tell me what you mean by that?\\npatient: Swollen, it looks bigger than it did before, and meaner, if that makes sense.\"),\n",
       " Document(metadata={'source': '/Users/avyaahuja/doctor/data/derm.csv', 'row': 3}, page_content=\"type: dermatological\\ndoctor: Swollen OK, is it red?\\npatient: Yeah, it's red, it's turning more red, kind of in the area around it. I've got these I got these scabs. I've got diabetes and I'm not exactly the best with it and scratching at it, and normally it's not that bad, but this is just strange looking and there's no other word for it.\"),\n",
       " Document(metadata={'source': '/Users/avyaahuja/doctor/data/derm.csv', 'row': 4}, page_content=\"type: dermatological\\ndoctor: OK, have you ever had anything like this before? I guess you kinda just said that you didn't, but I'll just double check.\\npatient: No no. Well I've had,  I have occasional ulcers and sometimes I have banged my toe when I'm not exactly the best taking care of my feet, but this is the first time I've gotten something that I don't know, I've just never seen it before.\"),\n",
       " Document(metadata={'source': '/Users/avyaahuja/doctor/data/derm.csv', 'row': 5}, page_content=\"type: dermatological\\ndoctor: Do you have any ulcers right now?\\npatient: Let me see. I think so, when's the last time I saw the family doc? I think I've got an ulcer on my left heel, but I think it's doing alright.\"),\n",
       " Document(metadata={'source': '/Users/avyaahuja/doctor/data/derm.csv', 'row': 6}, page_content=\"type: dermatological\\ndoctor: OK, and what leg are you having this problem with?\\npatient: Right now it's on my right, so my ankle.\"),\n",
       " Document(metadata={'source': '/Users/avyaahuja/doctor/data/derm.csv', 'row': 7}, page_content=\"type: dermatological\\ndoctor: OK, how have your sugars been controlled recently?\\npatient: I stopped measuring them. Yeah, last time I measured it was pretty bad. I think my A1C last time was like 9 something. I'm trying, I'm trying better to be with it. It's hard with work you know?\"),\n",
       " Document(metadata={'source': '/Users/avyaahuja/doctor/data/derm.csv', 'row': 8}, page_content=\"type: dermatological\\ndoctor: For sure, I can imagine so, in general, even if you don't know your numbers for your sugars, have you felt worse than usual lately? Have you felt rundown at all?\\npatient: Yeah, actually I have gained more, feel hungry, sometimes just tired, but it's hard to tell. There's an awful lot going on in my life right now with the kids, but, It's hard to tell I think. Yeah, I need to see my family doc.\"),\n",
       " Document(metadata={'source': '/Users/avyaahuja/doctor/data/derm.csv', 'row': 9}, page_content=\"type: dermatological\\ndoctor: OK. Definitely you know a good a good idea moving forward just to make sure you get on top of these things, but I'm glad you came in today so we can, you know, have a better look at you and make sure that there's nothing super concerning going on. So in addition to this, have you had any other new symptoms?\\npatient: Symptoms? Um, I feel a little hot actually. When the swelling started it's it also started leaking this like white stuff from one of the one of what used to be a scab so now like kind of an open wound now.\"),\n",
       " Document(metadata={'source': '/Users/avyaahuja/doctor/data/derm.csv', 'row': 10}, page_content='type: dermatological\\ndoctor: OK, OK so when did you start feeling hot?\\npatient: Honestly, last 12 hours.'),\n",
       " Document(metadata={'source': '/Users/avyaahuja/doctor/data/derm.csv', 'row': 11}, page_content=\"type: dermatological\\ndoctor: OK, you take your temperature at all?\\npatient: No, I don't have a thermometer at home.\"),\n",
       " Document(metadata={'source': '/Users/avyaahuja/doctor/data/derm.csv', 'row': 12}, page_content='type: dermatological\\ndoctor: Have you had any difficulty breathing?\\npatient: No no.'),\n",
       " Document(metadata={'source': '/Users/avyaahuja/doctor/data/derm.csv', 'row': 13}, page_content='type: dermatological\\ndoctor: Any chest pain?\\npatient: No.'),\n",
       " Document(metadata={'source': '/Users/avyaahuja/doctor/data/derm.csv', 'row': 14}, page_content='type: dermatological\\ndoctor: Have you noticed that your left, sorry, your right leg feels any hotter than the left?\\npatient: Yeah, yeah it does. Actually changing socks the other day, yeah.'),\n",
       " Document(metadata={'source': '/Users/avyaahuja/doctor/data/derm.csv', 'row': 15}, page_content=\"type: dermatological\\ndoctor: Right. Say, have you alone have you felt ill recently? Have you been sick at all?\\npatient: Aside from just feeling overall crummy last couple weeks, no don't really, less energy today, but I was up last night thinking about this and yeah wanted to come in and talk.\"),\n",
       " Document(metadata={'source': '/Users/avyaahuja/doctor/data/derm.csv', 'row': 16}, page_content=\"type: dermatological\\ndoctor: OK yeah, you did the right thing. I'm glad that you're in today. Is the pain on your legs worse when you touch it?\\npatient: Yeah, maybe not so much when I touch it. When I walk with it and I start flexing it it, it doesn't like that.\"),\n",
       " Document(metadata={'source': '/Users/avyaahuja/doctor/data/derm.csv', 'row': 17}, page_content='type: dermatological\\ndoctor: OK, uhm.\\npatient: Just resting it right now, it feels fine.'),\n",
       " Document(metadata={'source': '/Users/avyaahuja/doctor/data/derm.csv', 'row': 18}, page_content=\"type: dermatological\\ndoctor: It's OK, OK. OK, well I'm going to if I think of any more questions specifically about your leg I will, I'll go back to it, but I'm going to just move on and ask you questions about your overall health. You've already shared with me that you you are diabetic. Do you have any other chronic conditions that you live with?\\npatient: Chronic condition? I see the family doc about cholesterol. I'm on a pill for that. Uhm, I had asthma as a kid, not too much of an issue now. And my back, I've had back pain for the last 10 years, but all I really take for it is Tylenol Advil for that.\"),\n",
       " Document(metadata={'source': '/Users/avyaahuja/doctor/data/derm.csv', 'row': 19}, page_content=\"type: dermatological\\ndoctor: OK, oh my other question about your leg was, have you lost any feeling in it?\\npatient: It kind of is like a dull ache sometimes when I touch it. But, no like,  in the area, the ankle no, but definitely on my feet, like over the years I've noticed I feel less on it compared to what I did previously, yeah.\"),\n",
       " Document(metadata={'source': '/Users/avyaahuja/doctor/data/derm.csv', 'row': 20}, page_content=\"type: dermatological\\ndoctor: OK, so sorry I kind of sidetracked there so we talked about your diabetes. You said you have high cholesterol. So what medications are you currently taking?\\npatient: I'm taking 4 pills right now. One of them is for the cholesterol. I think it's called. rosuvastatin. The other three, they're all diabetes medications, but I don't remember. Metformin is one of them. Sidas...something I have a list somewhere. I'll give it to you later.\"),\n",
       " Document(metadata={'source': '/Users/avyaahuja/doctor/data/derm.csv', 'row': 21}, page_content='type: dermatological\\ndoctor: OK, are you on insulin right now?\\npatient: No.'),\n",
       " Document(metadata={'source': '/Users/avyaahuja/doctor/data/derm.csv', 'row': 22}, page_content='type: dermatological\\ndoctor: Are you on any or any of these medications new to you, recently?\\npatient: No no, but had them for about a year now.'),\n",
       " Document(metadata={'source': '/Users/avyaahuja/doctor/data/derm.csv', 'row': 23}, page_content=\"type: dermatological\\ndoctor: Do you have any allergies?\\npatient: Um, yeah, I do actually. Penicillin, can't take that.\"),\n",
       " Document(metadata={'source': '/Users/avyaahuja/doctor/data/derm.csv', 'row': 24}, page_content=\"type: dermatological\\ndoctor: And what happens when you take penicillin?\\npatient: It's been a while, as a kid apparently like my face got bloated and I was having a hard time breathing so...\"),\n",
       " Document(metadata={'source': '/Users/avyaahuja/doctor/data/derm.csv', 'row': 25}, page_content=\"type: dermatological\\ndoctor: Well, we will make sure that we don't give you that. Can you tell me if you've had any previous surgery?\\npatient: Oh yeah, uh, what was it? I had my sinuses, had some pretty bad sinusitis when I was in my teens and they went in and kind of carved a little space out.\"),\n",
       " Document(metadata={'source': '/Users/avyaahuja/doctor/data/derm.csv', 'row': 26}, page_content='type: dermatological\\ndoctor: OK, OK. Is that the only surgery that you had?\\npatient: Yeah.'),\n",
       " Document(metadata={'source': '/Users/avyaahuja/doctor/data/derm.csv', 'row': 27}, page_content=\"type: dermatological\\ndoctor: And can you tell me, do you have any family history of diabetes, skin problems, anything else that stands out to you?\\npatient: Yep, mom's side of the family, very much everyone has diabetes, high blood pressure, cholesterol. Dad's side of the the family is pretty healthy. I think maybe one of my aunts had lung cancer, but she's a pretty big smoker too.\"),\n",
       " Document(metadata={'source': '/Users/avyaahuja/doctor/data/derm.csv', 'row': 28}, page_content='type: dermatological\\ndoctor: And then just ask you a few questions about your lifestyle. So you said that you have children.\\npatient: Yeah, I do.'),\n",
       " Document(metadata={'source': '/Users/avyaahuja/doctor/data/derm.csv', 'row': 29}, page_content='type: dermatological\\ndoctor: Do you live in town? Do you live with your kids?\\npatient: I live in town. I see my kids every two weeks.'),\n",
       " Document(metadata={'source': '/Users/avyaahuja/doctor/data/derm.csv', 'row': 30}, page_content=\"type: dermatological\\ndoctor: And, uh. What do you do for work? Did I already ask you this?\\npatient: No, I'm currently unemployed and looking for work, partially employed, I suppose we should say I have my own business.\"),\n",
       " Document(metadata={'source': '/Users/avyaahuja/doctor/data/derm.csv', 'row': 31}, page_content=\"type: dermatological\\ndoctor: I see and, what do you, what do you do when when you are working, ideally?\\npatient: When I am working, I'm an accountant.\"),\n",
       " Document(metadata={'source': '/Users/avyaahuja/doctor/data/derm.csv', 'row': 32}, page_content=\"type: dermatological\\ndoctor: OK well, and do you smoke?\\npatient: Yeah once in a while, yeah, when I'm stressed.\"),\n",
       " Document(metadata={'source': '/Users/avyaahuja/doctor/data/derm.csv', 'row': 33}, page_content=\"type: dermatological\\ndoctor: How much do you smoke on average?\\npatient: Last couple of weeks, I've been smoking more, maybe like 2 packs a week.\"),\n",
       " Document(metadata={'source': '/Users/avyaahuja/doctor/data/derm.csv', 'row': 34}, page_content='type: dermatological\\ndoctor: OK. Do you drink alcohol?\\npatient: Yeah yeah.'),\n",
       " Document(metadata={'source': '/Users/avyaahuja/doctor/data/derm.csv', 'row': 35}, page_content='type: dermatological\\ndoctor: How much do you typically drink?\\npatient: Average week, maybe a 2 4.'),\n",
       " Document(metadata={'source': '/Users/avyaahuja/doctor/data/derm.csv', 'row': 36}, page_content='type: dermatological\\ndoctor: So maybe like 3 per day or something like that if you were to average it out?\\npatient: Yeah, if you average out I mainly go through the two four in a weekend to be honest.'),\n",
       " Document(metadata={'source': '/Users/avyaahuja/doctor/data/derm.csv', 'row': 37}, page_content='type: dermatological\\ndoctor: Oh, I see. OK, more so on the weekend, so maybe a little bit more than three per day on those days?\\npatient: Mhm.'),\n",
       " Document(metadata={'source': '/Users/avyaahuja/doctor/data/derm.csv', 'row': 38}, page_content=\"type: dermatological\\ndoctor: OK so that that that's everything that I need to ask you for now. I'd like to get a closer look at this leg. Did you have any other questions or concerns before we move forward to the physical exam?\\npatient: No I just want to get this figured out.\"),\n",
       " Document(metadata={'source': '/Users/avyaahuja/doctor/data/derm.csv', 'row': 39}, page_content=\"type: dermatological\\ndoctor: OK, yeah, we will definitely do that for you. So yeah, I'm going to have a look at it and then after that I will go talk to the doctor that I'm working with and we'll see what we can do for you. That sounds good?\\npatient: Thank you doc, yeah sounds great.\")]"
      ]
     },
     "execution_count": 8,
     "metadata": {},
     "output_type": "execute_result"
    }
   ],
   "source": [
    "from langchain.text_splitter import RecursiveCharacterTextSplitter\n",
    "text_splitter=RecursiveCharacterTextSplitter(chunk_size=1000,chunk_overlap=20)\n",
    "chunk_docs=text_splitter.split_documents(derm_docs)\n",
    "chunk_docs"
   ]
  },
  {
   "cell_type": "code",
   "execution_count": 9,
   "metadata": {},
   "outputs": [],
   "source": [
    "# from langchain.text_splitter import RecursiveCharacterTextSplitter\n",
    "# text_splitter=RecursiveCharacterTextSplitter(chunk_size=1000,chunk_overlap=20)\n",
    "# chunk_docs=text_splitter.split_documents(docs)\n",
    "# chunk_docs"
   ]
  },
  {
   "cell_type": "code",
   "execution_count": 10,
   "metadata": {},
   "outputs": [
    {
     "data": {
      "text/plain": [
       "(40, 3)"
      ]
     },
     "execution_count": 10,
     "metadata": {},
     "output_type": "execute_result"
    }
   ],
   "source": [
    "derm_df.shape"
   ]
  },
  {
   "cell_type": "code",
   "execution_count": 11,
   "metadata": {},
   "outputs": [],
   "source": [
    "# df.shape"
   ]
  },
  {
   "cell_type": "code",
   "execution_count": 12,
   "metadata": {},
   "outputs": [
    {
     "data": {
      "text/plain": [
       "<langchain_community.vectorstores.faiss.FAISS at 0x7f9f02f83850>"
      ]
     },
     "execution_count": 12,
     "metadata": {},
     "output_type": "execute_result"
    }
   ],
   "source": [
    "from langchain_community.embeddings import OllamaEmbeddings\n",
    "from langchain_community.vectorstores import FAISS\n",
    "\n",
    "db=FAISS.from_documents(chunk_docs,OllamaEmbeddings())\n",
    "db"
   ]
  },
  {
   "cell_type": "code",
   "execution_count": 13,
   "metadata": {},
   "outputs": [],
   "source": [
    "# derm_df"
   ]
  },
  {
   "cell_type": "code",
   "execution_count": 14,
   "metadata": {},
   "outputs": [],
   "source": [
    "query=\"I have a rash which is looking wierd\"\n",
    "result=db.similarity_search(query)\n",
    "text=result[0].page_content"
   ]
  },
  {
   "cell_type": "code",
   "execution_count": 15,
   "metadata": {},
   "outputs": [
    {
     "name": "stderr",
     "output_type": "stream",
     "text": [
      "/var/folders/sq/0c4j_x091jngfd2nls5zlk240000gn/T/ipykernel_2726/4184612399.py:18: LangChainDeprecationWarning: The class `LLMChain` was deprecated in LangChain 0.1.17 and will be removed in 1.0. Use RunnableSequence, e.g., `prompt | llm` instead.\n",
      "  llm_chain = LLMChain(llm=llm, prompt=prompt_template)\n",
      "/var/folders/sq/0c4j_x091jngfd2nls5zlk240000gn/T/ipykernel_2726/4184612399.py:20: LangChainDeprecationWarning: The method `Chain.run` was deprecated in langchain 0.1.0 and will be removed in 1.0. Use invoke instead.\n",
      "  response = llm_chain.run({\"query\": query, \"context\": text})\n"
     ]
    },
    {
     "name": "stdout",
     "output_type": "stream",
     "text": [
      "Oh no! Sorry to hear that you have a weird rash on your leg. Based on what you've shared with me, it's difficult to provide a definitive diagnosis without a thorough examination and medical history. However, I can offer some possible causes of a rash on the leg that may be worth discussing with your doctor.\n",
      "\n",
      "One possibility is an allergic reaction, which could be triggered by something you came into contact with, such as a new soap or lotion, or even something in your environment. Another possibility is a bacterial or fungal infection, which can cause a rash to appear on the skin. Additionally, it's possible that the rash could be related to an underlying medical condition, such as eczema or psoriasis.\n",
      "\n",
      "It's important to consult with your doctor to get a proper diagnosis and treatment plan. They will be able to examine the rash and ask you questions about your symptoms and medical history to determine the cause of the rash. In the meantime, you can try some over-the-counter treatments such as hydrocortisone cream or antihistamines to help manage the itching and inflammation associated with the rash.\n",
      "\n",
      "Remember, it's always better to be safe than sorry when it comes to skin conditions, so don't hesitate to seek medical attention if the rash doesn't improve or if you experience any other symptoms.\n"
     ]
    }
   ],
   "source": [
    "from langchain.prompts import PromptTemplate\n",
    "from langchain.chains import LLMChain\n",
    "from langchain.llms import Ollama\n",
    "\n",
    "llm = Ollama(model=\"llama2\")\n",
    "\n",
    "prompt_template = PromptTemplate(\n",
    "    input_variables=[\"query\", \"context\"],\n",
    "    template=\"\"\"\n",
    "    You are a helpful AI assistant. Based on the given context, provide a direct and concise answer to the query.\n",
    "    \n",
    "    Query: {query}\n",
    "    Context: {context}\n",
    "    \n",
    "    Answer:\"\"\"\n",
    ")\n",
    "\n",
    "llm_chain = LLMChain(llm=llm, prompt=prompt_template)\n",
    "\n",
    "response = llm_chain.run({\"query\": query, \"context\": text})\n",
    "print(response)"
   ]
  },
  {
   "cell_type": "code",
   "execution_count": 16,
   "metadata": {},
   "outputs": [
    {
     "name": "stdout",
     "output_type": "stream",
     "text": [
      "Doctor: Okay, thank you for letting me know. Based on your description, it sounds like you may have developed an irritation or infection on your leg. Have you tried any over-the-counter treatments such as hydrocortisone cream or calamine lotion? If the rash is severe or doesn't improve with self-care measures, we may need to prescribe a stronger medication or perform further testing to determine the cause.\n"
     ]
    }
   ],
   "source": [
    "from langchain.prompts import PromptTemplate\n",
    "from langchain.schema.runnable import RunnableLambda\n",
    "from langchain.llms import Ollama\n",
    "\n",
    "llm = Ollama(model=\"llama2\")\n",
    "\n",
    "prompt_template = PromptTemplate(\n",
    "    input_variables=[\"query\", \"context\"],\n",
    "    template=\"\"\"\n",
    "    You are a helpful AI assistant. Based on the given context, provide a direct and concise answer to the query.\n",
    "    \n",
    "    Query: {query}\n",
    "    Context: {context}\n",
    "    \n",
    "    Answer:\"\"\"\n",
    ")\n",
    "\n",
    "runnable_chain = prompt_template | llm\n",
    "\n",
    "response = runnable_chain.invoke({\"query\": query, \"context\": text})\n",
    "print(response)\n"
   ]
  }
 ],
 "metadata": {
  "kernelspec": {
   "display_name": "venv",
   "language": "python",
   "name": "python3"
  },
  "language_info": {
   "codemirror_mode": {
    "name": "ipython",
    "version": 3
   },
   "file_extension": ".py",
   "mimetype": "text/x-python",
   "name": "python",
   "nbconvert_exporter": "python",
   "pygments_lexer": "ipython3",
   "version": "3.8.6"
  }
 },
 "nbformat": 4,
 "nbformat_minor": 2
}
